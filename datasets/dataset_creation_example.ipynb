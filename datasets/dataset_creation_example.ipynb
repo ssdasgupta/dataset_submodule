{
 "cells": [
  {
   "cell_type": "code",
   "execution_count": 1,
   "metadata": {},
   "outputs": [],
   "source": [
    "# mammal\n",
    "%load_ext autoreload\n",
    "%autoreload 2"
   ]
  },
  {
   "cell_type": "code",
   "execution_count": 2,
   "metadata": {},
   "outputs": [],
   "source": [
    "from nltk.corpus import wordnet as wn\n",
    "import networkx as nx\n",
    "from IPython.display import Image\n",
    "import nltk_wn_utils as wn_utils\n",
    "import random\n",
    "from file_writers.openke import samples_write\n",
    "from pathlib import Path\n",
    "from extras.utils import create_splits"
   ]
  },
  {
   "cell_type": "code",
   "execution_count": 3,
   "metadata": {},
   "outputs": [],
   "source": [
    "data_dir = Path('/Users/dhruv/UnsyncedDocuments/IESL/kb_completion/models/.data')"
   ]
  },
  {
   "cell_type": "code",
   "execution_count": 4,
   "metadata": {},
   "outputs": [],
   "source": [
    "mammal = wn.synset('entity.n.01')"
   ]
  },
  {
   "cell_type": "code",
   "execution_count": 5,
   "metadata": {},
   "outputs": [],
   "source": [
    "mammal_hyponyms_graph = wn_utils.get_nx_graph(mammal, lambda s: s.hyponyms())"
   ]
  },
  {
   "cell_type": "code",
   "execution_count": 7,
   "metadata": {},
   "outputs": [
    {
     "name": "stdout",
     "output_type": "stream",
     "text": [
      "num_edges 75834\n",
      "num_nodes 74374\n"
     ]
    }
   ],
   "source": [
    "print('num_edges',mammal_hyponyms_graph.number_of_edges())\n",
    "print('num_nodes',mammal_hyponyms_graph.number_of_nodes())"
   ]
  },
  {
   "cell_type": "code",
   "execution_count": 8,
   "metadata": {},
   "outputs": [],
   "source": [
    "tc_mammal_hyponyms = nx.algorithms.dag.transitive_closure(mammal_hyponyms_graph)"
   ]
  },
  {
   "cell_type": "code",
   "execution_count": 9,
   "metadata": {},
   "outputs": [
    {
     "name": "stdout",
     "output_type": "stream",
     "text": [
      "num_edges 663492\n",
      "num_nodes 74374\n"
     ]
    }
   ],
   "source": [
    "print('num_edges',tc_mammal_hyponyms.number_of_edges())\n",
    "print('num_nodes',tc_mammal_hyponyms.number_of_nodes())"
   ]
  },
  {
   "cell_type": "code",
   "execution_count": 10,
   "metadata": {},
   "outputs": [],
   "source": [
    "# create samples\n",
    "mammal_hyponyms_samples, n2i = wn_utils.create_triples(mammal_hyponyms_graph, create_int_ids=True)\n",
    "random.shuffle(mammal_hyponyms_samples)\n",
    "train, val, test = create_splits(mammal_hyponyms_samples, train=0.8, dev=0.1, test=0.1)"
   ]
  },
  {
   "cell_type": "code",
   "execution_count": 11,
   "metadata": {},
   "outputs": [],
   "source": [
    "dataset_dir = data_dir / 'WN_HYPO'\n",
    "dataset_dir.mkdir(parents=True, exist_ok=True)"
   ]
  },
  {
   "cell_type": "code",
   "execution_count": 12,
   "metadata": {},
   "outputs": [],
   "source": [
    "samples_write(train, dataset_dir/'train2id.txt')\n",
    "samples_write(val, dataset_dir/'valid2id.txt')\n",
    "samples_write(test, dataset_dir/'test2id.txt')\n",
    "samples_write([(n, i) for n,i in n2i.items()], dataset_dir/'entity2id.txt')"
   ]
  },
  {
   "cell_type": "code",
   "execution_count": 13,
   "metadata": {},
   "outputs": [],
   "source": [
    "# create samples\n",
    "tc_mammal_hyponyms_samples, n2i = wn_utils.create_triples(tc_mammal_hyponyms, create_int_ids=True)\n",
    "random.shuffle(tc_mammal_hyponyms_samples)\n",
    "train, val, test = create_splits(tc_mammal_hyponyms_samples, train=0.8, dev=0.1, test=0.1)"
   ]
  },
  {
   "cell_type": "code",
   "execution_count": 14,
   "metadata": {},
   "outputs": [],
   "source": [
    "dataset_dir = data_dir / 'WN_HYPO_TC'\n",
    "dataset_dir.mkdir(parents=True, exist_ok=True)"
   ]
  },
  {
   "cell_type": "code",
   "execution_count": 15,
   "metadata": {},
   "outputs": [],
   "source": [
    "samples_write(train, dataset_dir/'train2id.txt')\n",
    "samples_write(val, dataset_dir/'valid2id.txt')\n",
    "samples_write(test, dataset_dir/'test2id.txt')\n",
    "samples_write([(n, i) for n,i in n2i.items()], dataset_dir/'entity2id.txt')"
   ]
  },
  {
   "cell_type": "code",
   "execution_count": null,
   "metadata": {},
   "outputs": [],
   "source": []
  }
 ],
 "metadata": {
  "kernelspec": {
   "display_name": "Python 3",
   "language": "python",
   "name": "python3"
  },
  "language_info": {
   "codemirror_mode": {
    "name": "ipython",
    "version": 3
   },
   "file_extension": ".py",
   "mimetype": "text/x-python",
   "name": "python",
   "nbconvert_exporter": "python",
   "pygments_lexer": "ipython3",
   "version": "3.7.2"
  }
 },
 "nbformat": 4,
 "nbformat_minor": 2
}
